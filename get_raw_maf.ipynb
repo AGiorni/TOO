{
 "cells": [
  {
   "cell_type": "code",
   "execution_count": 14,
   "id": "c1ef074a",
   "metadata": {},
   "outputs": [],
   "source": [
    "import requests\n",
    "import json\n",
    "import pandas as pd\n",
    "from io import StringIO\n",
    "from tqdm import tqdm\n",
    "import datetime\n",
    "from pathlib import Path\n",
    "\n",
    "import re"
   ]
  },
  {
   "cell_type": "code",
   "execution_count": 15,
   "id": "759236a3",
   "metadata": {},
   "outputs": [],
   "source": [
    "def build_filter_files(project_id, data_type=[\"Masked Somatic Mutation\"]):\n",
    "\n",
    "    filters = {\n",
    "        \"op\": \"and\",\n",
    "        \"content\":[\n",
    "            {\n",
    "            \"op\": \"in\",\n",
    "            \"content\":{\n",
    "                \"field\": \"data_type\",\n",
    "                \"value\": data_type\n",
    "            }\n",
    "            },\n",
    "            {\n",
    "            \"op\": \"in\",\n",
    "            \"content\":{\n",
    "                \"field\": \"cases.project.project_id\",\n",
    "                \"value\": project_id\n",
    "            }\n",
    "            }\n",
    "        ]\n",
    "    }\n",
    "    return filters"
   ]
  },
  {
   "cell_type": "code",
   "execution_count": 16,
   "id": "1ca6957e",
   "metadata": {},
   "outputs": [],
   "source": [
    "def get_file_ids(filters):\n",
    "    \n",
    "    files_endpt = \"https://api.gdc.cancer.gov/files\"\n",
    "\n",
    "    fields = [\n",
    "        \"file_id\",\n",
    "        \"cases.project.project_id\",\n",
    "        \"data_format\",\n",
    "        \"data_category\",\n",
    "        \"data_type\",\n",
    "        \"annotations.case_submitter_id\"\n",
    "    ]\n",
    "\n",
    "    params = {\n",
    "        \"filters\": json.dumps(filters),\n",
    "        \"fields\": ','.join(fields),\n",
    "        \"format\": \"TSV\",\n",
    "        \"size\": \"60\"\n",
    "    }\n",
    "\n",
    "    response = requests.get(files_endpt, params = params)\n",
    "\n",
    "    out_df = pd.read_csv(StringIO(response.content.decode(\"utf-8\")), sep='\\t')\n",
    "\n",
    "    file_ids = list(out_df['file_id'])\n",
    "\n",
    "    return file_ids"
   ]
  },
  {
   "cell_type": "code",
   "execution_count": 17,
   "id": "0a97666e",
   "metadata": {},
   "outputs": [],
   "source": [
    "def download_data(file_ids):\n",
    "\n",
    "    data_endpt = \"https://api.gdc.cancer.gov/data\"\n",
    "\n",
    "    params = {\"ids\": file_ids}\n",
    "\n",
    "    response = requests.post(data_endpt,\n",
    "                            data = json.dumps(params),\n",
    "                            headers={\n",
    "                                \"Content-Type\": \"application/json\"\n",
    "                                })\n",
    "    \n",
    "    return response"
   ]
  },
  {
   "cell_type": "code",
   "execution_count": null,
   "id": "c9cc1bdf",
   "metadata": {},
   "outputs": [],
   "source": []
  },
  {
   "cell_type": "code",
   "execution_count": null,
   "id": "38845798",
   "metadata": {},
   "outputs": [],
   "source": [
    "\n"
   ]
  },
  {
   "cell_type": "code",
   "execution_count": 18,
   "id": "990bb93a",
   "metadata": {},
   "outputs": [],
   "source": [
    "tcga_name_descr = '''LAML\tAcute Myeloid Leukemia\n",
    "ACC\tAdrenocortical carcinoma\n",
    "BLCA\tBladder Urothelial Carcinoma\n",
    "LGG\tBrain Lower Grade Glioma\n",
    "BRCA\tBreast invasive carcinoma\n",
    "CESC\tCervical squamous cell carcinoma and endocervical adenocarcinoma\n",
    "CHOL\tCholangiocarcinoma\n",
    "LCML\tChronic Myelogenous Leukemia\n",
    "COAD\tColon adenocarcinoma\n",
    "CNTL\tControls\n",
    "ESCA\tEsophageal carcinoma\n",
    "FPPP\tFFPE Pilot Phase II\n",
    "GBM\t    Glioblastoma multiforme\n",
    "HNSC\tHead and Neck squamous cell carcinoma\n",
    "KICH\tKidney Chromophobe\n",
    "KIRC\tKidney renal clear cell carcinoma\n",
    "KIRP\tKidney renal papillary cell carcinoma\n",
    "LIHC\tLiver hepatocellular carcinoma\n",
    "LUAD\tLung adenocarcinoma\n",
    "LUSC\tLung squamous cell carcinoma\n",
    "DLBC\tLymphoid Neoplasm Diffuse Large B-cell Lymphoma\n",
    "MESO\tMesothelioma\n",
    "MISC\tMiscellaneous\n",
    "OV\tOvarian serous cystadenocarcinoma\n",
    "PAAD\tPancreatic adenocarcinoma\n",
    "PCPG\tPheochromocytoma and Paraganglioma\n",
    "PRAD\tProstate adenocarcinoma\n",
    "READ\tRectum adenocarcinoma\n",
    "SARC\tSarcoma\n",
    "SKCM\tSkin Cutaneous Melanoma\n",
    "STAD\tStomach adenocarcinoma\n",
    "TGCT\tTesticular Germ Cell Tumors\n",
    "THYM\tThymoma\n",
    "THCA\tThyroid carcinoma\n",
    "UCS\tUterine Carcinosarcoma\n",
    "UCEC\tUterine Corpus Endometrial Carcinoma\n",
    "UVM\\tUveal Melanoma'''\n",
    "tcga_project_ids = [s.split('\\t')[0] for s in tcga_name_descr.splitlines()]"
   ]
  },
  {
   "cell_type": "code",
   "execution_count": null,
   "id": "1d191919",
   "metadata": {},
   "outputs": [],
   "source": []
  },
  {
   "cell_type": "code",
   "execution_count": null,
   "id": "0d0a59d0",
   "metadata": {},
   "outputs": [],
   "source": []
  },
  {
   "cell_type": "code",
   "execution_count": 19,
   "id": "1fb1b6af",
   "metadata": {},
   "outputs": [
    {
     "name": "stderr",
     "output_type": "stream",
     "text": [
      " 22%|██▏       | 8/37 [03:55<11:21, 23.50s/it]"
     ]
    },
    {
     "name": "stdout",
     "output_type": "stream",
     "text": [
      "TCGA-LCML  file ids retriveal failed\n"
     ]
    },
    {
     "name": "stderr",
     "output_type": "stream",
     "text": [
      " 27%|██▋       | 10/37 [04:35<08:57, 19.90s/it]"
     ]
    },
    {
     "name": "stdout",
     "output_type": "stream",
     "text": [
      "TCGA-CNTL  file ids retriveal failed\n"
     ]
    },
    {
     "name": "stderr",
     "output_type": "stream",
     "text": [
      " 32%|███▏      | 12/37 [05:12<07:21, 17.65s/it]"
     ]
    },
    {
     "name": "stdout",
     "output_type": "stream",
     "text": [
      "TCGA-FPPP  file ids retriveal failed\n"
     ]
    },
    {
     "name": "stderr",
     "output_type": "stream",
     "text": [
      " 62%|██████▏   | 23/37 [10:51<05:45, 24.67s/it]"
     ]
    },
    {
     "name": "stdout",
     "output_type": "stream",
     "text": [
      "TCGA-MISC  file ids retriveal failed\n"
     ]
    },
    {
     "name": "stderr",
     "output_type": "stream",
     "text": [
      "100%|██████████| 37/37 [19:14<00:00, 31.20s/it]\n"
     ]
    }
   ],
   "source": [
    "# main test\n",
    "projects_ids = [\n",
    "    '-'.join(['TCGA', id]) for id in tcga_project_ids\n",
    "]\n",
    "\n",
    "current_time = datetime.datetime.now().strftime(\"%Y_%m_%d__%I_%M_%S_%p\")\n",
    "\n",
    "target_dir = r'.\\MAF_raw_' + current_time\n",
    "\n",
    "dir_path = Path(target_dir)\n",
    "dir_path.mkdir(exist_ok=True)\n",
    "\n",
    "for project_id in tqdm(projects_ids):\n",
    "\n",
    "    filter = build_filter_files(project_id)\n",
    "    try:\n",
    "        file_ids = get_file_ids(filter)\n",
    "    except:\n",
    "        print(project_id, ' file ids retriveal failed')\n",
    "        continue\n",
    "    try:\n",
    "        response = download_data(file_ids)\n",
    "        \n",
    "        response_head_cd = response.headers[\"Content-Disposition\"]\n",
    "\n",
    "        file_name = '_'.join([project_id, re.findall(\"filename=(.+)\", response_head_cd)[0]])\n",
    "\n",
    "        file_path = Path(dir_path / Path(file_name))\n",
    "\n",
    "        with open(file_path, \"wb\") as output_file:\n",
    "            output_file.write(response.content)\n",
    "    except:\n",
    "        print(project_id, ' download failed')\n",
    "\n",
    "\n"
   ]
  },
  {
   "cell_type": "code",
   "execution_count": null,
   "id": "2e914cea",
   "metadata": {},
   "outputs": [],
   "source": []
  }
 ],
 "metadata": {
  "kernelspec": {
   "display_name": ".venv_TOO",
   "language": "python",
   "name": "python3"
  },
  "language_info": {
   "codemirror_mode": {
    "name": "ipython",
    "version": 3
   },
   "file_extension": ".py",
   "mimetype": "text/x-python",
   "name": "python",
   "nbconvert_exporter": "python",
   "pygments_lexer": "ipython3",
   "version": "3.12.10"
  }
 },
 "nbformat": 4,
 "nbformat_minor": 5
}
